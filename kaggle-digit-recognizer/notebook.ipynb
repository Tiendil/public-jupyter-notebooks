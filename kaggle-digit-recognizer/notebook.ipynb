{
 "cells": [
  {
   "cell_type": "markdown",
   "id": "1ef08386",
   "metadata": {},
   "source": [
    "# Kaggle: Digit Recognizer (MNIST) точность 0.99585"
   ]
  },
  {
   "cell_type": "markdown",
   "metadata": {},
   "source": [
    "[Мой блог](https://tiendil.org)\n",
    "\n",
    "[Пост об этом notebook](https://tiendil.org/kaggle-digit-recognizer-solution)\n",
    "\n",
    "Моё решение учебного соревнования [Kaggle](https://www.kaggle.com/): [digit-recognizer](https://www.kaggle.com/c/digit-recognizer/) по расспознаванию рукописных символов из набора [MNIST](https://en.wikipedia.org/wiki/MNIST_database).\n",
    "\n",
    "На момент отправки решение занимало 467 место из ~7000. На мой взгляд неплохой результат, учитывая, что первые мест 200 занимают читерские решения. MNIST — общедоступный набор данных, их можно скачать вне kaggle и залить в качестве решения готовые ответы, или обучить сеть на всём наборе.\n",
    "\n",
    "Размещаю notebook тут, а не на Kaggle, так как результаты из лидербордов учебных соревнований трутся через несколько месяцев, а отдельно висящих notebooks для MNIST там и так хватает, есть и лучше.\n",
    "\n",
    "Ссылки на Google Colab тоже не будет, так как их окружение сильно отличается от моего, надо обновлять много пакетов. Со временем различия будут только копиться, что сведёт полезность такой ссылки к нулю.\n",
    "\n",
    "Часть кода взята из моего [предыдущего notebook](https://github.com/Tiendil/public-jupyter-notebooks/blob/main/simplest-dl-workflow/notebook.ipynb)"
   ]
  },
  {
   "cell_type": "markdown",
   "metadata": {},
   "source": [
    "## Подготовка"
   ]
  },
  {
   "cell_type": "markdown",
   "metadata": {},
   "source": [
    "Notebook запускался в кастомизированном docker контейнере.\n",
    "\n",
    "Подробнее про мои злоключения с настройкой tensorflow + CUDA можно почитать в блоге: [нельзя просто так взять и запустить DL](https://tiendil.org/you-cant-just-take-and-run-dl).\n",
    "\n",
    "Официальная документация о [запуске tensorflow через docker](https://www.tensorflow.org/install/docker).\n",
    "\n",
    "Dockerfile: \n",
    "\n",
    "```\n",
    "FROM tensorflow/tensorflow:2.5.0-gpu-jupyter\n",
    "\n",
    "RUN apt-get update && apt-get install -y graphviz # requeired by tensorflow to visualize models\n",
    "\n",
    "RUN pip install --upgrade pip\n",
    "\n",
    "COPY requirements.txt ./\n",
    "\n",
    "RUN pip install -r ./requirements.txt\n",
    "\n",
    "COPY kaggle.json /root/.kaggle/\n",
    "\n",
    "# kaggle output warning, without stricter file permissions\n",
    "RUN chmod 600 /root/.kaggle/kaggle.json\n",
    "\n",
    "```\n",
    "\n",
    "requirements.txt:\n",
    "```\n",
    "pandas==1.1.5\n",
    "kaggle==1.5.12\n",
    "pydot==1.4.2  # requeired by tensorflow to visualize models\n",
    "livelossplot==0.5.4  # required to plot loss while training\n",
    "albumentations==1.0.3  # augument image data\n",
    "\n",
    "```"
   ]
  },
  {
   "cell_type": "markdown",
   "metadata": {},
   "source": [
    "## Инициализация"
   ]
  },
  {
   "cell_type": "code",
   "execution_count": 1,
   "metadata": {},
   "outputs": [
    {
     "data": {
      "text/markdown": [
       "Num GPUs Available: 1"
      ],
      "text/plain": [
       "<IPython.core.display.Markdown object>"
      ]
     },
     "metadata": {},
     "output_type": "display_data"
    },
    {
     "data": {
      "text/markdown": [
       "Eager mode: True"
      ],
      "text/plain": [
       "<IPython.core.display.Markdown object>"
      ]
     },
     "metadata": {},
     "output_type": "display_data"
    }
   ],
   "source": [
    "# Импортируем нужные пакеты.\n",
    "# Настраиваем самые важные параметры.\n",
    "\n",
    "import os\n",
    "import random\n",
    "import logging\n",
    "import datetime\n",
    "\n",
    "# Это нужно для более правильного и красивого вывода.\n",
    "# На сколько я понимаю, использовать print — моветон.\n",
    "from IPython.display import display, Markdown, Image, Latex\n",
    "import ipywidgets as ipw\n",
    "\n",
    "# Меняем уровень логирования tensorflow ПЕРЕД его импортом.\n",
    "# Если это не сделать, библиотека будет выводить кучу сообщений информационного характера. \n",
    "# Ради интереса можете закомментировать следующую строчку и почитать их — познавательно.\n",
    "# Подробнее смотрите тут: https://stackoverflow.com/questions/35911252/disable-tensorflow-debugging-information\n",
    "os.environ['TF_CPP_MIN_LOG_LEVEL'] = '1'\n",
    "\n",
    "import numpy as np\n",
    "import pandas as pd\n",
    "\n",
    "import tensorflow as tf\n",
    "\n",
    "from tensorflow import keras\n",
    "from tensorflow.keras import layers\n",
    "\n",
    "import matplotlib.pyplot as plt\n",
    "\n",
    "from livelossplot import PlotLossesKerasTF\n",
    "\n",
    "# биндинги для OpenCV — библиотеки Computer Vision\n",
    "# используется в albumentations\n",
    "# импортируем, так как нужны некоторые константы\n",
    "import cv2 \n",
    "\n",
    "# библиотека для аугументации изображений\n",
    "import albumentations as alb\n",
    "\n",
    "# Настраиваем оставшиеся логеры\n",
    "logging.getLogger().setLevel(logging.WARNING)\n",
    "\n",
    "tf.get_logger().setLevel(logging.WARNING)\n",
    "tf.autograph.set_verbosity(1)\n",
    "\n",
    "# Включаем строгий режим операций для numpy — при любом warning будет кидаться ошибка\n",
    "# Полезно, чтобы не напутать с типами данных. Особенно, если логирование отключено/уменьшено.\n",
    "old_settings = np.seterr('raise')\n",
    "\n",
    "# Проверяем есть ли доступные GPU\n",
    "gpus = tf.config.list_physical_devices(\"GPU\")\n",
    "\n",
    "display(Markdown(f'Num GPUs Available: {len(gpus)}'))\n",
    "\n",
    "if not gpus:\n",
    "    raise RuntimeError('No GPUs found, learning process will be too slow. In Google Colab set runtime type — GPU.')\n",
    "    \n",
    "display(Markdown(f'Eager mode: {tf.executing_eagerly()}'))\n",
    "\n",
    "# Говорим tensorflow не резервировать всю память на карте. Нам ещё браузером пользоваться и прочими штуками.\n",
    "tf.config.experimental.set_memory_growth(gpus[0], True)"
   ]
  },
  {
   "cell_type": "code",
   "execution_count": 2,
   "metadata": {},
   "outputs": [],
   "source": [
    "# Фиксируем генераторы случайных чисел для воспроизводимости.\n",
    "# Способ фиксации не полный и не гарантирует 100% воспроизводимости для этого notebook\n",
    "SEED = 1\n",
    "\n",
    "random.seed(SEED)\n",
    "np.random.seed(SEED)\n",
    "tf.random.set_seed(SEED)\n",
    "\n",
    "# Очищаем данные Keras. \n",
    "# Добавлено, чтобы освобождать память видеокарты. \n",
    "# Это важно, если, например, вы поочерёдно запускаете несколько notebook. \n",
    "tf.keras.backend.clear_session()\n",
    "\n",
    "# создаём генератор случайных чисел\n",
    "RNG = np.random.default_rng()"
   ]
  },
  {
   "cell_type": "markdown",
   "metadata": {},
   "source": [
    "## Вспомогательные функции"
   ]
  },
  {
   "cell_type": "markdown",
   "metadata": {},
   "source": [
    "Можно не вчитываться."
   ]
  },
  {
   "cell_type": "code",
   "execution_count": 3,
   "metadata": {},
   "outputs": [],
   "source": [
    "# Разделяет данные в dataset на несколько частей заданного размера.\n",
    "def split_dataset(data, *parts, cache):\n",
    "    data_size = data.cardinality()\n",
    "    assert data_size == sum(parts), \\\n",
    "           f\"dataset size must be equal to sum of parts: {data_size} != sum{parts}\"\n",
    "    \n",
    "    result = []\n",
    "    \n",
    "    for part in parts:\n",
    "        data_part = data.take(part)\n",
    "        \n",
    "        if cache:\n",
    "            data_part = data_part.cache()\n",
    "        \n",
    "        result.append(data_part)\n",
    "        \n",
    "        data = data.skip(part)\n",
    "        \n",
    "    return result\n",
    "\n",
    "\n",
    "def normalizer(minimum, maximum): \n",
    "    def normalize_dataset(x):\n",
    "        return (x - minimum) / (maximum - minimum)\n",
    "    return normalize_dataset\n",
    "\n",
    "# Рисует структуру модели средствами Keras. Простой способ визуализировать модель. Но не очень информативный.\n",
    "def display_model(model, name):\n",
    "    filename = f'/tmp/tmp_model_schema_{name}.png'\n",
    "    \n",
    "    keras.utils.plot_model(model, \n",
    "                           show_shapes=True, \n",
    "                           show_layer_names=True, \n",
    "                           show_dtype=True,\n",
    "                           expand_nested=True,\n",
    "                           to_file=filename)\n",
    "    display(Image(filename))\n",
    "    \n",
    "# Вспомогательный класс для генерации имён слоёв в модели. \n",
    "# Чтобы потом было проще читать логи и схемы.\n",
    "class LayersNameGenerator:\n",
    "    __slots__ = ('prefix', 'number')\n",
    "    \n",
    "    _version = 0\n",
    "    \n",
    "    def __init__(self, prefix):\n",
    "        self.prefix = prefix\n",
    "        self.number = 0\n",
    "        \n",
    "        self.__class__._version += 1\n",
    "        \n",
    "    def __call__(self, type_name, name=None):\n",
    "        self.number += 1\n",
    "        \n",
    "        if name is None:\n",
    "            name = str(self.number)\n",
    "            \n",
    "        return f'{self.prefix}.{self._version}-{type_name}.{name}'   \n",
    "    \n",
    "\n",
    "# Отображаем картинки.\n",
    "def display_examples(examples_number, data_number, image_getter, label_getter=lambda j: ''):\n",
    "    examples_number = min(examples_number, data_number)\n",
    "    \n",
    "    plt.figure(figsize = (16, 16))\n",
    "\n",
    "    for i, j in enumerate(RNG.choice(data_number, examples_number, replace=False)):\n",
    "        plt.subplot(1, examples_number, i+1)\n",
    "        plt.imshow(image_getter(j), cmap=plt.get_cmap('gray'))\n",
    "        plt.title(label_getter(j))\n",
    "        \n",
    "        \n",
    "def display_memory_stats():\n",
    "    stats = tf.config.experimental.get_memory_info('GPU:0')\n",
    "    message = f'''\n",
    "    current: {stats[\"current\"]/1024/1024}Mb\n",
    "    peak: {stats[\"peak\"]/1024/1024}Mb\n",
    "    '''\n",
    "    display(Markdown(message))\n",
    "    \n",
    "    \n",
    "def make_report(history, main, metrics):  \n",
    "    groups = {'main': {}}\n",
    "    \n",
    "    for key in history.history.keys():\n",
    "        if key in ('loss', 'val_loss', 'accuracy', 'val_accuracy'):\n",
    "            if key.startswith('val_'):\n",
    "                metric = key\n",
    "            else:\n",
    "                metric = f'train_{key}'\n",
    "                \n",
    "            groups['main'][metric] = history.history[key][-1]\n",
    "            continue\n",
    "            \n",
    "        if not any(key.endswith(f'_{metric}') for metric in metrics):\n",
    "            continue\n",
    "            \n",
    "        group, metric = key.rsplit('_', 1)\n",
    "              \n",
    "        validation = False\n",
    "        \n",
    "        if group.startswith('val_'):\n",
    "            group = group[4:]\n",
    "            validation = True\n",
    "        \n",
    "        if group not in groups:\n",
    "            groups[group] = {}\n",
    "            \n",
    "        if validation:\n",
    "            metric = f'val_{metric}'\n",
    "        else:\n",
    "            metric = f'train_{metric}'\n",
    "            \n",
    "        groups[group][metric] = history.history[key][-1]\n",
    "        \n",
    "    lines = []\n",
    "    \n",
    "    for group, group_metrics in groups.items():\n",
    "        lines.append(f'**{group}:**')\n",
    "        lines.append(f'```')\n",
    "        \n",
    "        for name, value in sorted(group_metrics.items()):\n",
    "            if name in ('accuracy', 'val_accuracy', 'train_accuracy'):\n",
    "                lines.append(f'  {name}: {value:.4%} ({value})')\n",
    "            else:\n",
    "                lines.append(f'  {name}: {value}')\n",
    "            \n",
    "        lines.append(f'```')\n",
    "        \n",
    "    train_loss = groups[main]['train_loss']\n",
    "    val_loss = groups[main]['val_loss']\n",
    "    val_accuracy = groups[main]['val_accuracy']\n",
    "        \n",
    "    history.history[key][-1]\n",
    "        \n",
    "    description = f'train_loss: {train_loss:.4}; val_loss: {val_loss:.4}; val_acc: {val_accuracy:.4%}'\n",
    "    \n",
    "    lines.append(f'**description:** {description}')\n",
    "            \n",
    "    return '\\n\\n'.join(lines), description"
   ]
  },
  {
   "cell_type": "markdown",
   "metadata": {},
   "source": [
    "## Получение данных MNIST"
   ]
  },
  {
   "cell_type": "code",
   "execution_count": 4,
   "metadata": {
    "scrolled": true
   },
   "outputs": [
    {
     "name": "stdout",
     "output_type": "stream",
     "text": [
      "digit-recognizer.zip: Skipping, found more recently modified local copy (use --force to force download)\r\n"
     ]
    }
   ],
   "source": [
    "# Скачиваем данные специализированной утилитой\n",
    "!kaggle competitions download -c digit-recognizer"
   ]
  },
  {
   "cell_type": "code",
   "execution_count": 5,
   "metadata": {},
   "outputs": [
    {
     "data": {
      "text/plain": [
       "(42000, 785)"
      ]
     },
     "metadata": {},
     "output_type": "display_data"
    },
    {
     "data": {
      "text/html": [
       "<div>\n",
       "<style scoped>\n",
       "    .dataframe tbody tr th:only-of-type {\n",
       "        vertical-align: middle;\n",
       "    }\n",
       "\n",
       "    .dataframe tbody tr th {\n",
       "        vertical-align: top;\n",
       "    }\n",
       "\n",
       "    .dataframe thead th {\n",
       "        text-align: right;\n",
       "    }\n",
       "</style>\n",
       "<table border=\"1\" class=\"dataframe\">\n",
       "  <thead>\n",
       "    <tr style=\"text-align: right;\">\n",
       "      <th></th>\n",
       "      <th>label</th>\n",
       "      <th>pixel0</th>\n",
       "      <th>pixel1</th>\n",
       "      <th>pixel2</th>\n",
       "      <th>pixel3</th>\n",
       "      <th>pixel4</th>\n",
       "      <th>pixel5</th>\n",
       "      <th>pixel6</th>\n",
       "      <th>pixel7</th>\n",
       "      <th>pixel8</th>\n",
       "      <th>...</th>\n",
       "      <th>pixel774</th>\n",
       "      <th>pixel775</th>\n",
       "      <th>pixel776</th>\n",
       "      <th>pixel777</th>\n",
       "      <th>pixel778</th>\n",
       "      <th>pixel779</th>\n",
       "      <th>pixel780</th>\n",
       "      <th>pixel781</th>\n",
       "      <th>pixel782</th>\n",
       "      <th>pixel783</th>\n",
       "    </tr>\n",
       "  </thead>\n",
       "  <tbody>\n",
       "    <tr>\n",
       "      <th>0</th>\n",
       "      <td>1</td>\n",
       "      <td>0</td>\n",
       "      <td>0</td>\n",
       "      <td>0</td>\n",
       "      <td>0</td>\n",
       "      <td>0</td>\n",
       "      <td>0</td>\n",
       "      <td>0</td>\n",
       "      <td>0</td>\n",
       "      <td>0</td>\n",
       "      <td>...</td>\n",
       "      <td>0</td>\n",
       "      <td>0</td>\n",
       "      <td>0</td>\n",
       "      <td>0</td>\n",
       "      <td>0</td>\n",
       "      <td>0</td>\n",
       "      <td>0</td>\n",
       "      <td>0</td>\n",
       "      <td>0</td>\n",
       "      <td>0</td>\n",
       "    </tr>\n",
       "    <tr>\n",
       "      <th>1</th>\n",
       "      <td>0</td>\n",
       "      <td>0</td>\n",
       "      <td>0</td>\n",
       "      <td>0</td>\n",
       "      <td>0</td>\n",
       "      <td>0</td>\n",
       "      <td>0</td>\n",
       "      <td>0</td>\n",
       "      <td>0</td>\n",
       "      <td>0</td>\n",
       "      <td>...</td>\n",
       "      <td>0</td>\n",
       "      <td>0</td>\n",
       "      <td>0</td>\n",
       "      <td>0</td>\n",
       "      <td>0</td>\n",
       "      <td>0</td>\n",
       "      <td>0</td>\n",
       "      <td>0</td>\n",
       "      <td>0</td>\n",
       "      <td>0</td>\n",
       "    </tr>\n",
       "    <tr>\n",
       "      <th>2</th>\n",
       "      <td>1</td>\n",
       "      <td>0</td>\n",
       "      <td>0</td>\n",
       "      <td>0</td>\n",
       "      <td>0</td>\n",
       "      <td>0</td>\n",
       "      <td>0</td>\n",
       "      <td>0</td>\n",
       "      <td>0</td>\n",
       "      <td>0</td>\n",
       "      <td>...</td>\n",
       "      <td>0</td>\n",
       "      <td>0</td>\n",
       "      <td>0</td>\n",
       "      <td>0</td>\n",
       "      <td>0</td>\n",
       "      <td>0</td>\n",
       "      <td>0</td>\n",
       "      <td>0</td>\n",
       "      <td>0</td>\n",
       "      <td>0</td>\n",
       "    </tr>\n",
       "    <tr>\n",
       "      <th>3</th>\n",
       "      <td>4</td>\n",
       "      <td>0</td>\n",
       "      <td>0</td>\n",
       "      <td>0</td>\n",
       "      <td>0</td>\n",
       "      <td>0</td>\n",
       "      <td>0</td>\n",
       "      <td>0</td>\n",
       "      <td>0</td>\n",
       "      <td>0</td>\n",
       "      <td>...</td>\n",
       "      <td>0</td>\n",
       "      <td>0</td>\n",
       "      <td>0</td>\n",
       "      <td>0</td>\n",
       "      <td>0</td>\n",
       "      <td>0</td>\n",
       "      <td>0</td>\n",
       "      <td>0</td>\n",
       "      <td>0</td>\n",
       "      <td>0</td>\n",
       "    </tr>\n",
       "    <tr>\n",
       "      <th>4</th>\n",
       "      <td>0</td>\n",
       "      <td>0</td>\n",
       "      <td>0</td>\n",
       "      <td>0</td>\n",
       "      <td>0</td>\n",
       "      <td>0</td>\n",
       "      <td>0</td>\n",
       "      <td>0</td>\n",
       "      <td>0</td>\n",
       "      <td>0</td>\n",
       "      <td>...</td>\n",
       "      <td>0</td>\n",
       "      <td>0</td>\n",
       "      <td>0</td>\n",
       "      <td>0</td>\n",
       "      <td>0</td>\n",
       "      <td>0</td>\n",
       "      <td>0</td>\n",
       "      <td>0</td>\n",
       "      <td>0</td>\n",
       "      <td>0</td>\n",
       "    </tr>\n",
       "    <tr>\n",
       "      <th>...</th>\n",
       "      <td>...</td>\n",
       "      <td>...</td>\n",
       "      <td>...</td>\n",
       "      <td>...</td>\n",
       "      <td>...</td>\n",
       "      <td>...</td>\n",
       "      <td>...</td>\n",
       "      <td>...</td>\n",
       "      <td>...</td>\n",
       "      <td>...</td>\n",
       "      <td>...</td>\n",
       "      <td>...</td>\n",
       "      <td>...</td>\n",
       "      <td>...</td>\n",
       "      <td>...</td>\n",
       "      <td>...</td>\n",
       "      <td>...</td>\n",
       "      <td>...</td>\n",
       "      <td>...</td>\n",
       "      <td>...</td>\n",
       "      <td>...</td>\n",
       "    </tr>\n",
       "    <tr>\n",
       "      <th>41995</th>\n",
       "      <td>0</td>\n",
       "      <td>0</td>\n",
       "      <td>0</td>\n",
       "      <td>0</td>\n",
       "      <td>0</td>\n",
       "      <td>0</td>\n",
       "      <td>0</td>\n",
       "      <td>0</td>\n",
       "      <td>0</td>\n",
       "      <td>0</td>\n",
       "      <td>...</td>\n",
       "      <td>0</td>\n",
       "      <td>0</td>\n",
       "      <td>0</td>\n",
       "      <td>0</td>\n",
       "      <td>0</td>\n",
       "      <td>0</td>\n",
       "      <td>0</td>\n",
       "      <td>0</td>\n",
       "      <td>0</td>\n",
       "      <td>0</td>\n",
       "    </tr>\n",
       "    <tr>\n",
       "      <th>41996</th>\n",
       "      <td>1</td>\n",
       "      <td>0</td>\n",
       "      <td>0</td>\n",
       "      <td>0</td>\n",
       "      <td>0</td>\n",
       "      <td>0</td>\n",
       "      <td>0</td>\n",
       "      <td>0</td>\n",
       "      <td>0</td>\n",
       "      <td>0</td>\n",
       "      <td>...</td>\n",
       "      <td>0</td>\n",
       "      <td>0</td>\n",
       "      <td>0</td>\n",
       "      <td>0</td>\n",
       "      <td>0</td>\n",
       "      <td>0</td>\n",
       "      <td>0</td>\n",
       "      <td>0</td>\n",
       "      <td>0</td>\n",
       "      <td>0</td>\n",
       "    </tr>\n",
       "    <tr>\n",
       "      <th>41997</th>\n",
       "      <td>7</td>\n",
       "      <td>0</td>\n",
       "      <td>0</td>\n",
       "      <td>0</td>\n",
       "      <td>0</td>\n",
       "      <td>0</td>\n",
       "      <td>0</td>\n",
       "      <td>0</td>\n",
       "      <td>0</td>\n",
       "      <td>0</td>\n",
       "      <td>...</td>\n",
       "      <td>0</td>\n",
       "      <td>0</td>\n",
       "      <td>0</td>\n",
       "      <td>0</td>\n",
       "      <td>0</td>\n",
       "      <td>0</td>\n",
       "      <td>0</td>\n",
       "      <td>0</td>\n",
       "      <td>0</td>\n",
       "      <td>0</td>\n",
       "    </tr>\n",
       "    <tr>\n",
       "      <th>41998</th>\n",
       "      <td>6</td>\n",
       "      <td>0</td>\n",
       "      <td>0</td>\n",
       "      <td>0</td>\n",
       "      <td>0</td>\n",
       "      <td>0</td>\n",
       "      <td>0</td>\n",
       "      <td>0</td>\n",
       "      <td>0</td>\n",
       "      <td>0</td>\n",
       "      <td>...</td>\n",
       "      <td>0</td>\n",
       "      <td>0</td>\n",
       "      <td>0</td>\n",
       "      <td>0</td>\n",
       "      <td>0</td>\n",
       "      <td>0</td>\n",
       "      <td>0</td>\n",
       "      <td>0</td>\n",
       "      <td>0</td>\n",
       "      <td>0</td>\n",
       "    </tr>\n",
       "    <tr>\n",
       "      <th>41999</th>\n",
       "      <td>9</td>\n",
       "      <td>0</td>\n",
       "      <td>0</td>\n",
       "      <td>0</td>\n",
       "      <td>0</td>\n",
       "      <td>0</td>\n",
       "      <td>0</td>\n",
       "      <td>0</td>\n",
       "      <td>0</td>\n",
       "      <td>0</td>\n",
       "      <td>...</td>\n",
       "      <td>0</td>\n",
       "      <td>0</td>\n",
       "      <td>0</td>\n",
       "      <td>0</td>\n",
       "      <td>0</td>\n",
       "      <td>0</td>\n",
       "      <td>0</td>\n",
       "      <td>0</td>\n",
       "      <td>0</td>\n",
       "      <td>0</td>\n",
       "    </tr>\n",
       "  </tbody>\n",
       "</table>\n",
       "<p>42000 rows × 785 columns</p>\n",
       "</div>"
      ],
      "text/plain": [
       "       label  pixel0  pixel1  pixel2  pixel3  pixel4  pixel5  pixel6  pixel7  \\\n",
       "0          1       0       0       0       0       0       0       0       0   \n",
       "1          0       0       0       0       0       0       0       0       0   \n",
       "2          1       0       0       0       0       0       0       0       0   \n",
       "3          4       0       0       0       0       0       0       0       0   \n",
       "4          0       0       0       0       0       0       0       0       0   \n",
       "...      ...     ...     ...     ...     ...     ...     ...     ...     ...   \n",
       "41995      0       0       0       0       0       0       0       0       0   \n",
       "41996      1       0       0       0       0       0       0       0       0   \n",
       "41997      7       0       0       0       0       0       0       0       0   \n",
       "41998      6       0       0       0       0       0       0       0       0   \n",
       "41999      9       0       0       0       0       0       0       0       0   \n",
       "\n",
       "       pixel8  ...  pixel774  pixel775  pixel776  pixel777  pixel778  \\\n",
       "0           0  ...         0         0         0         0         0   \n",
       "1           0  ...         0         0         0         0         0   \n",
       "2           0  ...         0         0         0         0         0   \n",
       "3           0  ...         0         0         0         0         0   \n",
       "4           0  ...         0         0         0         0         0   \n",
       "...       ...  ...       ...       ...       ...       ...       ...   \n",
       "41995       0  ...         0         0         0         0         0   \n",
       "41996       0  ...         0         0         0         0         0   \n",
       "41997       0  ...         0         0         0         0         0   \n",
       "41998       0  ...         0         0         0         0         0   \n",
       "41999       0  ...         0         0         0         0         0   \n",
       "\n",
       "       pixel779  pixel780  pixel781  pixel782  pixel783  \n",
       "0             0         0         0         0         0  \n",
       "1             0         0         0         0         0  \n",
       "2             0         0         0         0         0  \n",
       "3             0         0         0         0         0  \n",
       "4             0         0         0         0         0  \n",
       "...         ...       ...       ...       ...       ...  \n",
       "41995         0         0         0         0         0  \n",
       "41996         0         0         0         0         0  \n",
       "41997         0         0         0         0         0  \n",
       "41998         0         0         0         0         0  \n",
       "41999         0         0         0         0         0  \n",
       "\n",
       "[42000 rows x 785 columns]"
      ]
     },
     "metadata": {},
     "output_type": "display_data"
    }
   ],
   "source": [
    "import zipfile\n",
    "\n",
    "archive = zipfile.ZipFile('digit-recognizer.zip')\n",
    "\n",
    "archived_files = archive.namelist()\n",
    "\n",
    "FILE_TEST = 'test.csv'\n",
    "FILE_TRAIN = 'train.csv'\n",
    "\n",
    "if FILE_TEST not in archived_files or FILE_TRAIN not in archived_files:\n",
    "    raise RuntimeError('Can not find required files. Something wrong with archive.')\n",
    "    \n",
    "raw_train_data = pd.read_csv(archive.open(FILE_TRAIN))\n",
    "\n",
    "display(raw_train_data.shape)\n",
    "display(raw_train_data)"
   ]
  },
  {
   "cell_type": "markdown",
   "metadata": {},
   "source": [
    "## Смотрим на данные"
   ]
  },
  {
   "cell_type": "code",
   "execution_count": 6,
   "metadata": {},
   "outputs": [],
   "source": [
    "# Используем именованные константы вместо хардкода\n",
    "# Чтобы код был устойчивее к изменениям\n",
    "IMAGE_SIZE = 28\n",
    "IMAGE_SHAPE = (IMAGE_SIZE, IMAGE_SIZE)\n",
    "INPUT_SHAPE = (*IMAGE_SHAPE, 1)"
   ]
  },
  {
   "cell_type": "code",
   "execution_count": 7,
   "metadata": {},
   "outputs": [],
   "source": [
    "# Разделяем значения входов и выходов и производим базовую подготовку данных\n",
    "\n",
    "# Эта функция ещё понадобится при обработке неразмеченных данных для kaggle\n",
    "def prepair_x(raw_x):\n",
    "    x = raw_x.values.astype('float32')\n",
    "    return x.reshape(x.shape[0], *INPUT_SHAPE)\n",
    "    \n",
    "input_x = prepair_x(raw_train_data.iloc[:,1:])\n",
    "input_y = raw_train_data.iloc[:,0].values.astype('int32')"
   ]
  },
  {
   "cell_type": "code",
   "execution_count": 8,
   "metadata": {},
   "outputs": [
    {
     "data": {
      "image/png": "[encoded data removed]",
      "text/plain": [
       "<Figure size 1152x1152 with 10 Axes>"
      ]
     },
     "metadata": {
      "needs_background": "light"
     },
     "output_type": "display_data"
    }
   ],
   "source": [
    "# смотрим на картинки\n",
    "display_examples(examples_number=10, \n",
    "                 data_number=len(input_x), \n",
    "                 image_getter=lambda j: input_x[j], \n",
    "                 label_getter=lambda j: input_y[j]) "
   ]
  },
  {
   "cell_type": "code",
   "execution_count": 9,
   "metadata": {
    "scrolled": true
   },
   "outputs": [
    {
     "data": {
      "text/plain": [
       "<BarContainer object of 10 artists>"
      ]
     },
     "metadata": {},
     "output_type": "display_data"
    },
    {
     "data": {
      "image/png": "[encoded data removed]",
      "text/plain": [
       "<Figure size 432x288 with 1 Axes>"
      ]
     },
     "metadata": {
      "needs_background": "light"
     },
     "output_type": "display_data"
    }
   ],
   "source": [
    "# смотрим на распределение картинок по классам\n",
    "labels, counts = np.unique(input_y, return_counts=True)\n",
    "\n",
    "display(plt.bar(labels, counts, width=0.5, tick_label=labels))"
   ]
  },
  {
   "cell_type": "markdown",
   "metadata": {},
   "source": [
    "## Готовим данные для обучения"
   ]
  },
  {
   "cell_type": "markdown",
   "metadata": {},
   "source": [
    "Чтобы обучение сети происходило эффективно, тренировочные и валидационные данные необходимо подготовить.\n",
    "\n",
    "Во-первых — очистить, унифицировать и т.п. Поскольку мы работаем с MNIST нам это делать не надо — за нас уже всё сделали.\n",
    "\n",
    "Во-вторых, преобразовать в формат, удобный для нашей сети. Для этого мы нормализуем данные — перейдём от целочисленного формата пикселей (от 0 до 255) к дробному (от 0.0 до 1.0).\n",
    "\n",
    "В-третьих, расширить (термин для гугления: data augumentation) обучающую выборку, чтобы у сети было больше примеров. Для этого мы будем немного масштабировать, сдвигать и вращать доступные нам картинки. \n",
    "\n",
    "Делать это можно двумя способами:\n",
    "\n",
    "- offline — сгенерировать дополнительные данные один раз и учиться на их статическом наборе.\n",
    "- online — генерировать новые данные для каждой эпохи.\n",
    "\n",
    "Выбор конкретного способа зависит от задачи и доступных ресурсов. Поскольку данных у нас не много, модифицировать на лету их не сложно, я выбрал второй вариант."
   ]
  },
  {
   "cell_type": "code",
   "execution_count": 10,
   "metadata": {
    "scrolled": false
   },
   "outputs": [
    {
     "data": {
      "text/markdown": [
       "full data shape: <CacheDataset shapes: ((28, 28, 1), (10,)), types: (tf.float32, tf.float32)>"
      ],
      "text/plain": [
       "<IPython.core.display.Markdown object>"
      ]
     },
     "metadata": {},
     "output_type": "display_data"
    }
   ],
   "source": [
    "DATA_NUMBER = len(input_y)\n",
    "\n",
    "# Доступные нам данные разобьём на обучающие и валидационные в отношении 90%/10%.\n",
    "# Валидацпионную выборку будем использовать в качестве критерия остановки обучения и предотвращения переобучения.\n",
    "# Как только показатели для этой выборки перестали улучшаться, считаем сеть обученной.\n",
    "TRAIN_FRACTION = 0.9\n",
    "TRAIN_EXAMPLES = int(TRAIN_FRACTION * DATA_NUMBER)\n",
    "VALIDATION_EXAMPLES = DATA_NUMBER - TRAIN_EXAMPLES\n",
    "\n",
    "\n",
    "def preprocess_x(input_x):\n",
    "    x = input_x.reshape(input_x.shape[0], *INPUT_SHAPE)\n",
    "    \n",
    "    x = tf.data.Dataset.from_tensor_slices(x)\n",
    "    \n",
    "    # нормализуем данные в картинках\n",
    "    x_minimum = np.amin(input_x)\n",
    "    x_maximum = np.amax(input_x)\n",
    "      \n",
    "    return x.map(normalizer(x_minimum, x_maximum))\n",
    "\n",
    "\n",
    "def preprocess_y(input_y):\n",
    "    # Преобразуем идентификаторы классов (0,1,2,…,9) в binary class matrix, не знаю как правильно по-русски :-)\n",
    "    # Нейронной сети проще работать с качественными/бинарными признаками а-ля «это 9? да/нет».\n",
    "    # Поэтому метки классов преобразуются в one-hot vector (https://en.wikipedia.org/wiki/One-hot).\n",
    "    # А-ля 2 -> [0, 0, 1, 0, …]; 5 -> [0, 0, 0, 0, 0, 5, …]\n",
    "    # Подробнее в документации: https://www.tensorflow.org/api_docs/python/tf/keras/utils/to_categorical\n",
    "    y = tf.keras.utils.to_categorical(input_y)\n",
    "    return tf.data.Dataset.from_tensor_slices(y)\n",
    "\n",
    "\n",
    "# Функция делает предобработку данных и объединяет их в один набор\n",
    "def preprocess(input_x, input_y):  \n",
    "    x = preprocess_x(input_x)\n",
    "    y = preprocess_y(input_y)\n",
    "    \n",
    "    d = tf.data.Dataset.zip((x, y))\n",
    "    \n",
    "    d = d.shuffle(buffer_size=len(d))\n",
    "    \n",
    "    # .cache — возвращает dataset, который не будет изменяться при различных вызовах\n",
    "    # это полезно по-двум причинам:\n",
    "    # - не будет происходить перерасчёт данных (нормализация и т.п.) при каждом проходе по ним;\n",
    "    # - если при обработке происходили случайные изменения данных, они будут зафиксированы \n",
    "    #   и будут иметь одно и то же значение на каждом проходе по ним\n",
    "    #\n",
    "    # .cache будет использоваться далее ещё в некоторых местах\n",
    "    # На мой взгляд, им можно заканчивать каждую замкнутую операцию с данными, результат которой должен быть зафиксирован\n",
    "    # Во время прототипрования код меняется быстро, если забыть что данные не закешированы,\n",
    "    # можно словить сложноотслеживаемые тормоза или неконсистентность данных.\n",
    "    return d.cache()\n",
    "\n",
    "# после этой строчки у нас будет «стандартизованый» набор данных для обучения.\n",
    "DATA = preprocess(input_x, input_y)\n",
    "\n",
    "display(Markdown(f'full data shape: {DATA}'))\n",
    "\n",
    "# Получаем обучающую и валидационную выборку\n",
    "# Итоговые dataset тоже кэшируются\n",
    "data_train, data_validation = split_dataset(DATA, \n",
    "                                            TRAIN_EXAMPLES, \n",
    "                                            VALIDATION_EXAMPLES,\n",
    "                                            cache=True)\n",
    "\n",
    "\n",
    "# Функция расширяющая набор данных с помощью библиотеки albumentations\n",
    "# p — вероятность применения преобразований к конкретному изображению\n",
    "def augumenting(d, p):\n",
    "    # Перемешиваем исходный dataset\n",
    "    # Он будет подаваться сети кусками (batches).\n",
    "    # Перемешав данные перед формированием этих кусков, мы сделаем каждый кусок уникальным. \n",
    "    # То есть данные, на которых учится сеть, станут разнообразнее, что улучшит поиск глобального оптимума.\n",
    "    # В случае этой задачи, добавление перемешивания само по себе значительно улучшило показатели сети.\n",
    "    d = d.shuffle(buffer_size=len(d))\n",
    "        \n",
    "    # Описываем преобращования данных, указываем границы сдвина, вращения, изменения масштаба.\n",
    "    # Cтавить большой угол поворота не надо, так как нейронка начнёт видеть 6 как 9, 7 как перевёрнутую 2, etc.\n",
    "    transforms = alb.Compose([alb.ShiftScaleRotate(shift_limit=0.15, \n",
    "                                                   scale_limit=0.15, \n",
    "                                                   rotate_limit=15, \n",
    "                                                   interpolation=cv2.INTER_CUBIC, \n",
    "                                                   border_mode=cv2.BORDER_CONSTANT, \n",
    "                                                   value=0.0, \n",
    "                                                   p=p)])\n",
    "    \n",
    "    def transformer(x):\n",
    "        data = transforms(image=x)\n",
    "        return data['image']\n",
    "    \n",
    "    def mapper(x, y):\n",
    "        x = tf.numpy_function(func=transformer, inp=[x], Tout=tf.float32)\n",
    "        return x, y\n",
    "    \n",
    "    # Применяем преобразования. \n",
    "    # Тут dataset не кешируем, чтобы на кажом цикле обучения сеть получала новые данные.\n",
    "    return d.map(mapper)\n",
    "\n",
    "# Формируем реальную обучающую выборку.\n",
    "# Каждая эпоха обучения будет получать 50% исходных данных, 50% модифицированных.\n",
    "data_train = augumenting(data_train, p=0.5)\n",
    "\n",
    "# data_validation не трогаем"
   ]
  },
  {
   "cell_type": "markdown",
   "id": "452234cb",
   "metadata": {},
   "source": [
    "## Конструируем модель"
   ]
  },
  {
   "cell_type": "markdown",
   "metadata": {},
   "source": [
    "По архитектуре модели мало что интересного можно сказать — она относительно проста и будет видна на графе ниже. \n",
    "\n",
    "В условиях остутствия реального опыта, сеть строилась итерационно, опираясь на чуйку и шаткие представления о работе всего этого :-)\n",
    "\n",
    "Хорошее улучшение показателей дало добавление слоёв [BatchNormalization](https://www.tensorflow.org/api_docs/python/tf/keras/layers/BatchNormalization) после [Dense](https://www.tensorflow.org/api_docs/python/tf/keras/layers/Dense). \n",
    "А вот их добавление после [Conv2D](https://www.tensorflow.org/api_docs/python/tf/keras/layers/Conv2D) вызывало странное поведение сети: показатели сети на валидационной выборке начинали ухудшаться на протяжении первых эпох 20, после чего улучшались, но не улучшали результат. На сколько я вижу по другим решениям, так быть не должно. Я нашёл несколько возможных объяснений, но пока до конца не разобрался."
   ]
  },
  {
   "cell_type": "code",
   "execution_count": 11,
   "metadata": {},
   "outputs": [],
   "source": [
    "def construct_model():\n",
    "    names = LayersNameGenerator('mnist')\n",
    "    \n",
    "    inputs = keras.Input(shape=INPUT_SHAPE, name=names('Input'))\n",
    "    \n",
    "    branch = inputs\n",
    "    \n",
    "    branch = layers.Conv2D(2**7, (5, 5), activation='elu', name=names('Conv2D'))(branch)\n",
    "    \n",
    "    branch = layers.MaxPooling2D((3, 3), (2, 2), name=names('MaxPooling2D'))(branch)\n",
    "    \n",
    "    branch = layers.Conv2D(2**8, (3, 3), activation='relu', name=names('Conv2D'))(branch)\n",
    "         \n",
    "    branch = layers.Flatten(name=names('Flatten'))(branch)\n",
    "       \n",
    "    branch = layers.Dense(2**10, activation=\"elu\", use_bias=True, name=names('Dense'))(branch)\n",
    "    \n",
    "    branch = layers.BatchNormalization(name=names('BatchNormalization'))(branch)\n",
    "    \n",
    "    branch = layers.Dense(2**7, activation=\"relu\", use_bias=True, name=names('Dense'))(branch) \n",
    "    \n",
    "    branch = layers.BatchNormalization(name=names('BatchNormalization'))(branch)\n",
    "    \n",
    "    outputs = layers.Dense(10, activation='softmax', name=names('Dense'))(branch)\n",
    "    \n",
    "    model = keras.Model(inputs=inputs, outputs=outputs)\n",
    "    \n",
    "    return model\n",
    "\n",
    "\n",
    "model = construct_model()\n",
    "\n",
    "model.compile(optimizer=keras.optimizers.RMSprop(centered=True),\n",
    "              loss=tf.keras.losses.CategoricalCrossentropy(),\n",
    "              metrics=['accuracy'])"
   ]
  },
  {
   "cell_type": "markdown",
   "metadata": {},
   "source": [
    "## Базовые проверки"
   ]
  },
  {
   "cell_type": "code",
   "execution_count": 12,
   "metadata": {
    "scrolled": false
   },
   "outputs": [
    {
     "data": {
      "text/plain": [
       "<tf.Tensor: shape=(1, 10), dtype=float32, numpy=\n",
       "array([[0.11517566, 0.08987234, 0.1061188 , 0.10282896, 0.09056489,\n",
       "        0.09785405, 0.10259971, 0.09160702, 0.10418604, 0.09919246]],\n",
       "      dtype=float32)>"
      ]
     },
     "metadata": {},
     "output_type": "display_data"
    },
    {
     "data": {
      "image/png": "[encoded data removed]",
      "text/plain": [
       "<IPython.core.display.Image object>"
      ]
     },
     "metadata": {},
     "output_type": "display_data"
    }
   ],
   "source": [
    "# Проверяем, что модель в принципе что-то считает\n",
    "check_input = tf.constant(RNG.random((1, *INPUT_SHAPE)), shape=(1, *INPUT_SHAPE))\n",
    "display(model(check_input))\n",
    "\n",
    "# Визуализируем граф модели.\n",
    "display_model(model, 'model')"
   ]
  },
  {
   "cell_type": "markdown",
   "id": "9d1833d8",
   "metadata": {},
   "source": [
    "## Обучаем модель"
   ]
  },
  {
   "cell_type": "code",
   "execution_count": 13,
   "metadata": {
    "scrolled": true
   },
   "outputs": [
    {
     "data": {
      "text/markdown": [
       "batch size: 3780"
      ],
      "text/plain": [
       "<IPython.core.display.Markdown object>"
      ]
     },
     "metadata": {},
     "output_type": "display_data"
    },
    {
     "data": {
      "text/markdown": [
       "epochs: 10000"
      ],
      "text/plain": [
       "<IPython.core.display.Markdown object>"
      ]
     },
     "metadata": {},
     "output_type": "display_data"
    }
   ],
   "source": [
    "# Задаём параметры обучения\n",
    "\n",
    "# Сколько раз цикл обучения пройдёт по всем обучающим данным\n",
    "EPOCHS = 10000\n",
    "\n",
    "# За один шаг будем обучать сеть на таком количестве данных\n",
    "BATCH_SIZE = int(TRAIN_EXAMPLES * 0.1)\n",
    "\n",
    "\n",
    "display(Markdown(f'batch size: {BATCH_SIZE}'))\n",
    "display(Markdown(f'epochs: {EPOCHS}'))"
   ]
  },
  {
   "cell_type": "code",
   "execution_count": 14,
   "metadata": {
    "scrolled": false
   },
   "outputs": [
    {
     "data": {
      "image/png": "[encoded data removed]",
      "text/plain": [
       "<Figure size 864x576 with 2 Axes>"
      ]
     },
     "metadata": {
      "needs_background": "light"
     },
     "output_type": "display_data"
    }
   ],
   "source": [
    "# Явно формируем dataset для скармливания сети во время обучения.\n",
    "# Разбиваем на куски и говорим готовить их заранее.\n",
    "data_for_train = data_train.batch(BATCH_SIZE, drop_remainder=True).prefetch(buffer_size=10)\n",
    "data_for_validation = data_validation.batch(BATCH_SIZE).prefetch(buffer_size=10)\n",
    "\n",
    "#Указываем параметры обучения\n",
    "\n",
    "# Количество эпох без улучшения показателей валидационной выборки, после которых обучение останавливается.\n",
    "# Используется в трёх callbacks:\n",
    "# - EarlyStopping непосредственно останавливает обучение.\n",
    "# - ReduceLROnPlateau уменьшает скорость обучения при длительном отсутствии изменений\n",
    "# - PlotLossesKerasTF рисует график с областью равной patience — так удобнее — лучше видны изменения.\n",
    "patience = 20  \n",
    "\n",
    "# Поскольку EarlyStopping и ReduceLROnPlateau используют разные значения по-умолчанию для определения изменений,\n",
    "# унифицируем его.\n",
    "plateau_min_delta = 0.0001\n",
    "\n",
    "# Запускаем обучение.\n",
    "# Помимо прочего указываем EarlyStopping восстановить веса с первым лучшим результом валидации на плато.\n",
    "# Чтобы ещё уменьшить шанс переобучения.\n",
    "history = model.fit(data_for_train,\n",
    "                    epochs=EPOCHS,\n",
    "                    validation_data=data_for_validation,\n",
    "                    callbacks=[PlotLossesKerasTF(from_step=-patience,\n",
    "                                                 outputs=['MatplotlibPlot']),\n",
    "                               tf.keras.callbacks.EarlyStopping(monitor='val_loss', \n",
    "                                                                min_delta=plateau_min_delta,\n",
    "                                                                restore_best_weights=True,\n",
    "                                                                patience=patience),\n",
    "                               tf.keras.callbacks.ReduceLROnPlateau(min_delta=plateau_min_delta,\n",
    "                                                                    patience=patience//3)])"
   ]
  },
  {
   "cell_type": "code",
   "execution_count": 15,
   "metadata": {},
   "outputs": [
    {
     "data": {
      "text/markdown": [
       "\n",
       "    current: 389.6162109375Mb\n",
       "    peak: 5893.58203125Mb\n",
       "    "
      ],
      "text/plain": [
       "<IPython.core.display.Markdown object>"
      ]
     },
     "metadata": {},
     "output_type": "display_data"
    }
   ],
   "source": [
    "# статистика использованой памяти\n",
    "display_memory_stats()"
   ]
  },
  {
   "cell_type": "code",
   "execution_count": 16,
   "metadata": {},
   "outputs": [
    {
     "data": {
      "text/markdown": [
       "**main:**\n",
       "\n",
       "```\n",
       "\n",
       "  train_accuracy: 99.7778% (0.9977777600288391)\n",
       "\n",
       "  train_loss: 0.007784143090248108\n",
       "\n",
       "  val_accuracy: 100.0000% (1.0)\n",
       "\n",
       "  val_loss: 0.0006906437338329852\n",
       "\n",
       "```\n",
       "\n",
       "**description:** train_loss: 0.007784; val_loss: 0.0006906; val_acc: 100.0000%"
      ],
      "text/plain": [
       "<IPython.core.display.Markdown object>"
      ]
     },
     "metadata": {},
     "output_type": "display_data"
    }
   ],
   "source": [
    "# Формируем небольшой отчёт об обучении\n",
    "# Отчёт показывает последние данные, что не совсем соответствует реальности —\n",
    "# веса сети откатываваются момент первого лучшего результата валидации на плато. \n",
    "report, description = make_report(history, 'main', ['loss', 'accuracy'])\n",
    "    \n",
    "display(Markdown(report))"
   ]
  },
  {
   "cell_type": "markdown",
   "metadata": {},
   "source": [
    "## Анализируем работу модели"
   ]
  },
  {
   "cell_type": "markdown",
   "metadata": {},
   "source": [
    "Ищем ошибки в валидационной выборке и во всех данных в целом. Отображаем проблемные картинки."
   ]
  },
  {
   "cell_type": "code",
   "execution_count": 17,
   "metadata": {},
   "outputs": [
    {
     "data": {
      "text/markdown": [
       "validation, failed validation examples: 0, accuracy: 0.0"
      ],
      "text/plain": [
       "<IPython.core.display.Markdown object>"
      ]
     },
     "metadata": {},
     "output_type": "display_data"
    },
    {
     "data": {
      "text/markdown": [
       "all, failed validation examples: 9, accuracy: 0.00021428571428571427"
      ],
      "text/plain": [
       "<IPython.core.display.Markdown object>"
      ]
     },
     "metadata": {},
     "output_type": "display_data"
    }
   ],
   "source": [
    "def search_errors(name, data):\n",
    "    n = len(data)\n",
    "    \n",
    "    validation_x = next(iter(data.map(lambda x, y: x).batch(n)))\n",
    "    validation_y = np.argmax(next(iter(data.map(lambda x, y: y).batch(n))), axis=1)\n",
    "\n",
    "    resulted_y = model.predict(validation_x, verbose=0)\n",
    "    resulted_y = np.argmax(resulted_y, axis=1)\n",
    "\n",
    "    failed_data = []\n",
    "\n",
    "    for i, (expexted, result) in enumerate(zip(validation_y, resulted_y)):\n",
    "        if expexted != result:\n",
    "            failed_data.append((i, expexted, result))\n",
    "            \n",
    "    failed = len(failed_data)\n",
    "    \n",
    "    accuracy = float(failed) / n\n",
    "        \n",
    "    display(Markdown(f'{name}, failed validation examples: {failed}, accuracy: {accuracy}'))\n",
    "    \n",
    "    return failed_data\n",
    "\n",
    "failed_validation = search_errors('validation', data_validation)\n",
    "failed_data = search_errors('all', DATA)"
   ]
  },
  {
   "cell_type": "code",
   "execution_count": 18,
   "metadata": {},
   "outputs": [
    {
     "data": {
      "image/png": "[encoded data removed]",
      "text/plain": [
       "<Figure size 1152x1152 with 9 Axes>"
      ]
     },
     "metadata": {
      "needs_background": "light"
     },
     "output_type": "display_data"
    },
    {
     "data": {
      "text/plain": [
       "<Figure size 1152x1152 with 0 Axes>"
      ]
     },
     "metadata": {},
     "output_type": "display_data"
    }
   ],
   "source": [
    "def display_failed_examples(data, failed_data):\n",
    "    data_x = next(iter(data.map(lambda x, y: x).batch(len(data))))\n",
    "    \n",
    "    display_examples(examples_number=10, \n",
    "                     data_number=len(failed_data), \n",
    "                     image_getter=lambda j: data_x[j], \n",
    "                     label_getter=lambda j: f'{failed_data[j][1]} but {failed_data[j][2]}')\n",
    "        \n",
    "display_failed_examples(DATA, failed_data)\n",
    "display_failed_examples(data_validation, failed_validation)"
   ]
  },
  {
   "cell_type": "markdown",
   "metadata": {},
   "source": [
    "## Подготавливаем данные для kaggle"
   ]
  },
  {
   "cell_type": "code",
   "execution_count": 19,
   "metadata": {},
   "outputs": [
    {
     "data": {
      "text/plain": [
       "(28000, 784)"
      ]
     },
     "metadata": {},
     "output_type": "display_data"
    },
    {
     "data": {
      "text/html": [
       "<div>\n",
       "<style scoped>\n",
       "    .dataframe tbody tr th:only-of-type {\n",
       "        vertical-align: middle;\n",
       "    }\n",
       "\n",
       "    .dataframe tbody tr th {\n",
       "        vertical-align: top;\n",
       "    }\n",
       "\n",
       "    .dataframe thead th {\n",
       "        text-align: right;\n",
       "    }\n",
       "</style>\n",
       "<table border=\"1\" class=\"dataframe\">\n",
       "  <thead>\n",
       "    <tr style=\"text-align: right;\">\n",
       "      <th></th>\n",
       "      <th>pixel0</th>\n",
       "      <th>pixel1</th>\n",
       "      <th>pixel2</th>\n",
       "      <th>pixel3</th>\n",
       "      <th>pixel4</th>\n",
       "      <th>pixel5</th>\n",
       "      <th>pixel6</th>\n",
       "      <th>pixel7</th>\n",
       "      <th>pixel8</th>\n",
       "      <th>pixel9</th>\n",
       "      <th>...</th>\n",
       "      <th>pixel774</th>\n",
       "      <th>pixel775</th>\n",
       "      <th>pixel776</th>\n",
       "      <th>pixel777</th>\n",
       "      <th>pixel778</th>\n",
       "      <th>pixel779</th>\n",
       "      <th>pixel780</th>\n",
       "      <th>pixel781</th>\n",
       "      <th>pixel782</th>\n",
       "      <th>pixel783</th>\n",
       "    </tr>\n",
       "  </thead>\n",
       "  <tbody>\n",
       "    <tr>\n",
       "      <th>0</th>\n",
       "      <td>0</td>\n",
       "      <td>0</td>\n",
       "      <td>0</td>\n",
       "      <td>0</td>\n",
       "      <td>0</td>\n",
       "      <td>0</td>\n",
       "      <td>0</td>\n",
       "      <td>0</td>\n",
       "      <td>0</td>\n",
       "      <td>0</td>\n",
       "      <td>...</td>\n",
       "      <td>0</td>\n",
       "      <td>0</td>\n",
       "      <td>0</td>\n",
       "      <td>0</td>\n",
       "      <td>0</td>\n",
       "      <td>0</td>\n",
       "      <td>0</td>\n",
       "      <td>0</td>\n",
       "      <td>0</td>\n",
       "      <td>0</td>\n",
       "    </tr>\n",
       "    <tr>\n",
       "      <th>1</th>\n",
       "      <td>0</td>\n",
       "      <td>0</td>\n",
       "      <td>0</td>\n",
       "      <td>0</td>\n",
       "      <td>0</td>\n",
       "      <td>0</td>\n",
       "      <td>0</td>\n",
       "      <td>0</td>\n",
       "      <td>0</td>\n",
       "      <td>0</td>\n",
       "      <td>...</td>\n",
       "      <td>0</td>\n",
       "      <td>0</td>\n",
       "      <td>0</td>\n",
       "      <td>0</td>\n",
       "      <td>0</td>\n",
       "      <td>0</td>\n",
       "      <td>0</td>\n",
       "      <td>0</td>\n",
       "      <td>0</td>\n",
       "      <td>0</td>\n",
       "    </tr>\n",
       "    <tr>\n",
       "      <th>2</th>\n",
       "      <td>0</td>\n",
       "      <td>0</td>\n",
       "      <td>0</td>\n",
       "      <td>0</td>\n",
       "      <td>0</td>\n",
       "      <td>0</td>\n",
       "      <td>0</td>\n",
       "      <td>0</td>\n",
       "      <td>0</td>\n",
       "      <td>0</td>\n",
       "      <td>...</td>\n",
       "      <td>0</td>\n",
       "      <td>0</td>\n",
       "      <td>0</td>\n",
       "      <td>0</td>\n",
       "      <td>0</td>\n",
       "      <td>0</td>\n",
       "      <td>0</td>\n",
       "      <td>0</td>\n",
       "      <td>0</td>\n",
       "      <td>0</td>\n",
       "    </tr>\n",
       "    <tr>\n",
       "      <th>3</th>\n",
       "      <td>0</td>\n",
       "      <td>0</td>\n",
       "      <td>0</td>\n",
       "      <td>0</td>\n",
       "      <td>0</td>\n",
       "      <td>0</td>\n",
       "      <td>0</td>\n",
       "      <td>0</td>\n",
       "      <td>0</td>\n",
       "      <td>0</td>\n",
       "      <td>...</td>\n",
       "      <td>0</td>\n",
       "      <td>0</td>\n",
       "      <td>0</td>\n",
       "      <td>0</td>\n",
       "      <td>0</td>\n",
       "      <td>0</td>\n",
       "      <td>0</td>\n",
       "      <td>0</td>\n",
       "      <td>0</td>\n",
       "      <td>0</td>\n",
       "    </tr>\n",
       "    <tr>\n",
       "      <th>4</th>\n",
       "      <td>0</td>\n",
       "      <td>0</td>\n",
       "      <td>0</td>\n",
       "      <td>0</td>\n",
       "      <td>0</td>\n",
       "      <td>0</td>\n",
       "      <td>0</td>\n",
       "      <td>0</td>\n",
       "      <td>0</td>\n",
       "      <td>0</td>\n",
       "      <td>...</td>\n",
       "      <td>0</td>\n",
       "      <td>0</td>\n",
       "      <td>0</td>\n",
       "      <td>0</td>\n",
       "      <td>0</td>\n",
       "      <td>0</td>\n",
       "      <td>0</td>\n",
       "      <td>0</td>\n",
       "      <td>0</td>\n",
       "      <td>0</td>\n",
       "    </tr>\n",
       "    <tr>\n",
       "      <th>...</th>\n",
       "      <td>...</td>\n",
       "      <td>...</td>\n",
       "      <td>...</td>\n",
       "      <td>...</td>\n",
       "      <td>...</td>\n",
       "      <td>...</td>\n",
       "      <td>...</td>\n",
       "      <td>...</td>\n",
       "      <td>...</td>\n",
       "      <td>...</td>\n",
       "      <td>...</td>\n",
       "      <td>...</td>\n",
       "      <td>...</td>\n",
       "      <td>...</td>\n",
       "      <td>...</td>\n",
       "      <td>...</td>\n",
       "      <td>...</td>\n",
       "      <td>...</td>\n",
       "      <td>...</td>\n",
       "      <td>...</td>\n",
       "      <td>...</td>\n",
       "    </tr>\n",
       "    <tr>\n",
       "      <th>27995</th>\n",
       "      <td>0</td>\n",
       "      <td>0</td>\n",
       "      <td>0</td>\n",
       "      <td>0</td>\n",
       "      <td>0</td>\n",
       "      <td>0</td>\n",
       "      <td>0</td>\n",
       "      <td>0</td>\n",
       "      <td>0</td>\n",
       "      <td>0</td>\n",
       "      <td>...</td>\n",
       "      <td>0</td>\n",
       "      <td>0</td>\n",
       "      <td>0</td>\n",
       "      <td>0</td>\n",
       "      <td>0</td>\n",
       "      <td>0</td>\n",
       "      <td>0</td>\n",
       "      <td>0</td>\n",
       "      <td>0</td>\n",
       "      <td>0</td>\n",
       "    </tr>\n",
       "    <tr>\n",
       "      <th>27996</th>\n",
       "      <td>0</td>\n",
       "      <td>0</td>\n",
       "      <td>0</td>\n",
       "      <td>0</td>\n",
       "      <td>0</td>\n",
       "      <td>0</td>\n",
       "      <td>0</td>\n",
       "      <td>0</td>\n",
       "      <td>0</td>\n",
       "      <td>0</td>\n",
       "      <td>...</td>\n",
       "      <td>0</td>\n",
       "      <td>0</td>\n",
       "      <td>0</td>\n",
       "      <td>0</td>\n",
       "      <td>0</td>\n",
       "      <td>0</td>\n",
       "      <td>0</td>\n",
       "      <td>0</td>\n",
       "      <td>0</td>\n",
       "      <td>0</td>\n",
       "    </tr>\n",
       "    <tr>\n",
       "      <th>27997</th>\n",
       "      <td>0</td>\n",
       "      <td>0</td>\n",
       "      <td>0</td>\n",
       "      <td>0</td>\n",
       "      <td>0</td>\n",
       "      <td>0</td>\n",
       "      <td>0</td>\n",
       "      <td>0</td>\n",
       "      <td>0</td>\n",
       "      <td>0</td>\n",
       "      <td>...</td>\n",
       "      <td>0</td>\n",
       "      <td>0</td>\n",
       "      <td>0</td>\n",
       "      <td>0</td>\n",
       "      <td>0</td>\n",
       "      <td>0</td>\n",
       "      <td>0</td>\n",
       "      <td>0</td>\n",
       "      <td>0</td>\n",
       "      <td>0</td>\n",
       "    </tr>\n",
       "    <tr>\n",
       "      <th>27998</th>\n",
       "      <td>0</td>\n",
       "      <td>0</td>\n",
       "      <td>0</td>\n",
       "      <td>0</td>\n",
       "      <td>0</td>\n",
       "      <td>0</td>\n",
       "      <td>0</td>\n",
       "      <td>0</td>\n",
       "      <td>0</td>\n",
       "      <td>0</td>\n",
       "      <td>...</td>\n",
       "      <td>0</td>\n",
       "      <td>0</td>\n",
       "      <td>0</td>\n",
       "      <td>0</td>\n",
       "      <td>0</td>\n",
       "      <td>0</td>\n",
       "      <td>0</td>\n",
       "      <td>0</td>\n",
       "      <td>0</td>\n",
       "      <td>0</td>\n",
       "    </tr>\n",
       "    <tr>\n",
       "      <th>27999</th>\n",
       "      <td>0</td>\n",
       "      <td>0</td>\n",
       "      <td>0</td>\n",
       "      <td>0</td>\n",
       "      <td>0</td>\n",
       "      <td>0</td>\n",
       "      <td>0</td>\n",
       "      <td>0</td>\n",
       "      <td>0</td>\n",
       "      <td>0</td>\n",
       "      <td>...</td>\n",
       "      <td>0</td>\n",
       "      <td>0</td>\n",
       "      <td>0</td>\n",
       "      <td>0</td>\n",
       "      <td>0</td>\n",
       "      <td>0</td>\n",
       "      <td>0</td>\n",
       "      <td>0</td>\n",
       "      <td>0</td>\n",
       "      <td>0</td>\n",
       "    </tr>\n",
       "  </tbody>\n",
       "</table>\n",
       "<p>28000 rows × 784 columns</p>\n",
       "</div>"
      ],
      "text/plain": [
       "       pixel0  pixel1  pixel2  pixel3  pixel4  pixel5  pixel6  pixel7  pixel8  \\\n",
       "0           0       0       0       0       0       0       0       0       0   \n",
       "1           0       0       0       0       0       0       0       0       0   \n",
       "2           0       0       0       0       0       0       0       0       0   \n",
       "3           0       0       0       0       0       0       0       0       0   \n",
       "4           0       0       0       0       0       0       0       0       0   \n",
       "...       ...     ...     ...     ...     ...     ...     ...     ...     ...   \n",
       "27995       0       0       0       0       0       0       0       0       0   \n",
       "27996       0       0       0       0       0       0       0       0       0   \n",
       "27997       0       0       0       0       0       0       0       0       0   \n",
       "27998       0       0       0       0       0       0       0       0       0   \n",
       "27999       0       0       0       0       0       0       0       0       0   \n",
       "\n",
       "       pixel9  ...  pixel774  pixel775  pixel776  pixel777  pixel778  \\\n",
       "0           0  ...         0         0         0         0         0   \n",
       "1           0  ...         0         0         0         0         0   \n",
       "2           0  ...         0         0         0         0         0   \n",
       "3           0  ...         0         0         0         0         0   \n",
       "4           0  ...         0         0         0         0         0   \n",
       "...       ...  ...       ...       ...       ...       ...       ...   \n",
       "27995       0  ...         0         0         0         0         0   \n",
       "27996       0  ...         0         0         0         0         0   \n",
       "27997       0  ...         0         0         0         0         0   \n",
       "27998       0  ...         0         0         0         0         0   \n",
       "27999       0  ...         0         0         0         0         0   \n",
       "\n",
       "       pixel779  pixel780  pixel781  pixel782  pixel783  \n",
       "0             0         0         0         0         0  \n",
       "1             0         0         0         0         0  \n",
       "2             0         0         0         0         0  \n",
       "3             0         0         0         0         0  \n",
       "4             0         0         0         0         0  \n",
       "...         ...       ...       ...       ...       ...  \n",
       "27995         0         0         0         0         0  \n",
       "27996         0         0         0         0         0  \n",
       "27997         0         0         0         0         0  \n",
       "27998         0         0         0         0         0  \n",
       "27999         0         0         0         0         0  \n",
       "\n",
       "[28000 rows x 784 columns]"
      ]
     },
     "metadata": {},
     "output_type": "display_data"
    }
   ],
   "source": [
    "# Смотрим на данные\n",
    "raw_test_data = pd.read_csv(archive.open(FILE_TEST))\n",
    "\n",
    "display(raw_test_data.shape)\n",
    "display(raw_test_data)"
   ]
  },
  {
   "cell_type": "code",
   "execution_count": 20,
   "metadata": {
    "scrolled": true
   },
   "outputs": [],
   "source": [
    "# Подготавливаем данные\n",
    "test_input_x = prepair_x(raw_test_data)"
   ]
  },
  {
   "cell_type": "code",
   "execution_count": 21,
   "metadata": {},
   "outputs": [
    {
     "data": {
      "image/png": "[encoded data removed]",
      "text/plain": [
       "<Figure size 1152x1152 with 10 Axes>"
      ]
     },
     "metadata": {
      "needs_background": "light"
     },
     "output_type": "display_data"
    }
   ],
   "source": [
    "# Смотрим на картинки\n",
    "display_examples(examples_number=10, \n",
    "                 data_number=len(test_input_x), \n",
    "                 image_getter=lambda j: test_input_x[j]) "
   ]
  },
  {
   "cell_type": "code",
   "execution_count": 22,
   "metadata": {},
   "outputs": [],
   "source": [
    "# Производим предобработку\n",
    "data_test = preprocess_x(test_input_x)"
   ]
  },
  {
   "cell_type": "code",
   "execution_count": 23,
   "metadata": {},
   "outputs": [],
   "source": [
    "# Предсказываем\n",
    "SUBMISSION_FILE = 'digit-recognizer-predictions.csv'\n",
    "\n",
    "data_for_prediction = data_test.batch(BATCH_SIZE).prefetch(buffer_size=10)\n",
    "\n",
    "predictions = model.predict(data_for_prediction, verbose=0)\n",
    "\n",
    "predicted_labels = np.argmax(predictions, axis=1)"
   ]
  },
  {
   "cell_type": "code",
   "execution_count": 24,
   "metadata": {},
   "outputs": [],
   "source": [
    "# Записываем результат в CSV\n",
    "submissions=pd.DataFrame({\"ImageId\": list(range(1,len(predicted_labels)+1)),\n",
    "                          \"Label\": predicted_labels})\n",
    "submissions.to_csv(SUBMISSION_FILE, index=False, header=True)"
   ]
  },
  {
   "cell_type": "code",
   "execution_count": 25,
   "metadata": {},
   "outputs": [
    {
     "data": {
      "application/vnd.jupyter.widget-view+json": {
       "model_id": "7f4bc2e895a945b199a0f69bc9fe23f5",
       "version_major": 2,
       "version_minor": 0
      },
      "text/plain": [
       "Button(description='Send to Kaggle', style=ButtonStyle())"
      ]
     },
     "metadata": {},
     "output_type": "display_data"
    }
   ],
   "source": [
    "# Количество попыток в день на Kaggle ограничено.\n",
    "# Поэтому мы не хотим каждый запуск notebook заканчивать отправкой решения.\n",
    "# Вместо этого мы делаем кнопку, которая отправляет текущее решение с комментарием из отчёта.\n",
    "button = ipw.Button(description='Send to Kaggle')\n",
    "\n",
    "def send_to_kaggle(btn):\n",
    "    !kaggle competitions submit -c digit-recognizer -f \"$SUBMISSION_FILE\" -m \"$description\"\n",
    "    \n",
    "button.on_click(send_to_kaggle)\n",
    "\n",
    "display(button)"
   ]
  }
 ],
 "metadata": {
  "kernelspec": {
   "display_name": "Python 3",
   "language": "python",
   "name": "python3"
  },
  "language_info": {
   "codemirror_mode": {
    "name": "ipython",
    "version": 3
   },
   "file_extension": ".py",
   "mimetype": "text/x-python",
   "name": "python",
   "nbconvert_exporter": "python",
   "pygments_lexer": "ipython3",
   "version": "3.6.9"
  }
 },
 "nbformat": 4,
 "nbformat_minor": 5
}
